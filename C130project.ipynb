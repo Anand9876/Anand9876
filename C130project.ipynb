{
  "nbformat": 4,
  "nbformat_minor": 0,
  "metadata": {
    "colab": {
      "name": "C130project",
      "provenance": [],
      "authorship_tag": "ABX9TyOpyOHosXcjHLyLmOb9I3tX",
      "include_colab_link": true
    },
    "kernelspec": {
      "name": "python3",
      "display_name": "Python 3"
    },
    "language_info": {
      "name": "python"
    }
  },
  "cells": [
    {
      "cell_type": "markdown",
      "metadata": {
        "id": "view-in-github",
        "colab_type": "text"
      },
      "source": [
        "<a href=\"https://colab.research.google.com/github/Anand9876/Anand9876/blob/main/C130project.ipynb\" target=\"_parent\"><img src=\"https://colab.research.google.com/assets/colab-badge.svg\" alt=\"Open In Colab\"/></a>"
      ]
    },
    {
      "cell_type": "code",
      "execution_count": 5,
      "metadata": {
        "colab": {
          "base_uri": "https://localhost:8080/"
        },
        "id": "MEKRqedPdH6M",
        "outputId": "4dac4336-9e83-44e2-d4e3-cd46fdbcbbd6"
      },
      "outputs": [
        {
          "output_type": "stream",
          "name": "stdout",
          "text": [
            "(195, 17)\n",
            "(195, 11)\n"
          ]
        }
      ],
      "source": [
        "import pandas as pd\n",
        "import csv\n",
        "\n",
        "df=pd.read_csv('merged_file.csv')\n",
        "\n",
        "print(df.shape)\n",
        "del df['Luminosity']\n",
        "del df['Mass']\n",
        "del df['Radius']\n",
        "del df['Distance']\n",
        "del df['Unnamed: 0']\n",
        "del df['Unnamed: 6']\n",
        "print(df.shape)\n",
        "\n",
        "df= df.rename({\n",
        "     'Mass.1':'Mass_of_the_star',\n",
        "     'Radius.1':'Radius_of_the_star'\n",
        " },axis='columns')\n",
        "\n",
        "df.to_csv('Planet_data.csv')\n",
        "\n",
        "\n"
      ]
    }
  ]
}