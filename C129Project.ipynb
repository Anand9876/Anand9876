{
  "nbformat": 4,
  "nbformat_minor": 0,
  "metadata": {
    "colab": {
      "name": "C129Project",
      "provenance": [],
      "collapsed_sections": [],
      "authorship_tag": "ABX9TyOszfQBb33fbPKNVLBgkUQV",
      "include_colab_link": true
    },
    "kernelspec": {
      "name": "python3",
      "display_name": "Python 3"
    },
    "language_info": {
      "name": "python"
    }
  },
  "cells": [
    {
      "cell_type": "markdown",
      "metadata": {
        "id": "view-in-github",
        "colab_type": "text"
      },
      "source": [
        "<a href=\"https://colab.research.google.com/github/Anand9876/Anand9876/blob/main/C129Project.ipynb\" target=\"_parent\"><img src=\"https://colab.research.google.com/assets/colab-badge.svg\" alt=\"Open In Colab\"/></a>"
      ]
    },
    {
      "cell_type": "code",
      "source": [
        "!pip install kora -q\n"
      ],
      "metadata": {
        "id": "s5nbljHZNbKY"
      },
      "execution_count": 4,
      "outputs": []
    },
    {
      "cell_type": "code",
      "source": [
        "import pandas as pd\n",
        "\n",
        "import csv\n",
        "planet_data=[]\n",
        "df=pd.read_csv('brown_dwarf_stars.csv')\n",
        "planet_data.append(df)"
      ],
      "metadata": {
        "id": "S5C9GOheCyvy"
      },
      "execution_count": 5,
      "outputs": []
    },
    {
      "cell_type": "code",
      "source": [
        "df=df[df['Constellation'].notna()]\n",
        "print(df)"
      ],
      "metadata": {
        "colab": {
          "base_uri": "https://localhost:8080/"
        },
        "id": "djVRg3r_K_HS",
        "outputId": "f28295b8-1991-4f17-b5a9-931063528280"
      },
      "execution_count": 6,
      "outputs": [
        {
          "output_type": "stream",
          "name": "stdout",
          "text": [
            "     Unnamed: 0                    Brown_dwarf  Constellation Right_ascension  \\\n",
            "0             0  SDSS J000013.54+255418.6 [de]           46.1              48   \n",
            "2             2        2MASS J00040288-6410358          192.0              19   \n",
            "4             4        2MASS J00242463-0158201           37.7              79   \n",
            "5             5      2MASS J00250365+4759191AB          143.0             NaN   \n",
            "6             6        2MASS J00274197+0503417          236.0              31   \n",
            "..          ...                            ...            ...             ...   \n",
            "348         348                 WISE 2348-1028           54.1             NaN   \n",
            "349         349                 WISE 2357+1227           54.8             NaN   \n",
            "350         350                 WISE 2359-7335           42.7             NaN   \n",
            "351         351                WISEA 1101+5400          111.0             NaN   \n",
            "352         352                         2M1510          120.0     40 + 39 + ?   \n",
            "\n",
            "     Declination     App_mag        Distance    Spectral_type   Mass   Radius  \\\n",
            "0           0.99     Pegasus    0h 0m 13.54s      25° 54′ 18″    NaN     T4.5   \n",
            "2           1.63      Tucana     0h 4m 2.88s   −64° 10′ 35.8″    NaN      L1γ   \n",
            "4           1.09      Pisces   0h 24m 24.63s    −1° 58′ 20.1″    NaN     M9.5   \n",
            "5            NaN  Cassiopeia    0h 25m 3.65s    47° 59′ 19.1″    NaN       L4   \n",
            "6           1.44      Pisces   0h 27m 41.97s      5° 3′ 41.7″    NaN    M9.5β   \n",
            "..           ...         ...             ...              ...    ...      ...   \n",
            "348          NaN    Aquarius  23h 48m 41.13s  −10° 28′ 44.11″  16.91       T7   \n",
            "349          NaN     Pegasus  23h 57m 16.49s    12° 27′ 41.8″    NaN       T6   \n",
            "350          NaN      Tucana  23h 59m 41.08s   −73° 35′ 5.09″  16.16     T5.5   \n",
            "351          NaN  Ursa Major  11h 01m 25.95s   +54° 00′ 52.8″    NaN     T5.5   \n",
            "352          NaN       Libra  15h 10m 47.47s   −28° 18′ 18.3″    NaN  M9γ+M9γ   \n",
            "\n",
            "     Discovery_year  \n",
            "0            2004.0  \n",
            "2               NaN  \n",
            "4               NaN  \n",
            "5               NaN  \n",
            "6               NaN  \n",
            "..              ...  \n",
            "348          2010.0  \n",
            "349          2010.0  \n",
            "350          2010.0  \n",
            "351          2017.0  \n",
            "352          2002.0  \n",
            "\n",
            "[346 rows x 11 columns]\n"
          ]
        }
      ]
    },
    {
      "cell_type": "code",
      "source": [
        "import csv\n",
        "dataset_1=[]\n",
        "dataset_2=[]\n",
        "\n",
        "with open('brightest_stars.csv','r') as f:\n",
        "  csvreader=csv.reader(f)\n",
        "  for row in csvreader:\n",
        "    dataset_1.append(row)\n",
        "\n",
        "with open('brown_dwarf_stars.csv','r') as f:\n",
        "  csvreader=csv.reader(f)\n",
        "  for row in csvreader:\n",
        "    dataset_2.append(row)\n",
        "\n",
        "headers_1=dataset_1[0]\n",
        "planet_data_1=dataset_1[1:]\n",
        "\n",
        "\n",
        "headers_2=dataset_2[0]\n",
        "planet_data_2=dataset_2[1:]\n",
        "\n",
        "headers=headers_1+headers_2\n",
        "\n",
        "planet_data=[]\n",
        "for index,data_row in enumerate(planet_data_1):\n",
        "  planet_data.append(planet_data_1[index]+planet_data_2[index])\n",
        "\n",
        "with open('merged_file.csv','a+') as f:\n",
        "  csvwriter=csv.writer(f)\n",
        "  csvwriter.writerow(headers)\n",
        "  csvwriter.writerows(planet_data)"
      ],
      "metadata": {
        "id": "o9caCD1taRjT"
      },
      "execution_count": 10,
      "outputs": []
    }
  ]
}